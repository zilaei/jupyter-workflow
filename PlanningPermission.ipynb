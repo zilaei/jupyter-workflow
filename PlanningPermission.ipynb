{
 "cells": [
  {
   "attachments": {},
   "cell_type": "markdown",
   "metadata": {},
   "source": [
    "### Setup environment\n",
    "Notebook uses OpenAI API. Use an existing key or [create a new key](https://platform.openai.com/account/api-keys)."
   ]
  },
  {
   "cell_type": "code",
   "execution_count": 1,
   "metadata": {},
   "outputs": [
    {
     "data": {
      "text/plain": [
       "True"
      ]
     },
     "execution_count": 1,
     "metadata": {},
     "output_type": "execute_result"
    }
   ],
   "source": [
    "import os\n",
    "from dotenv import load_dotenv\n",
    "load_dotenv()"
   ]
  },
  {
   "attachments": {},
   "cell_type": "markdown",
   "metadata": {},
   "source": [
    "### Setup logger"
   ]
  },
  {
   "cell_type": "code",
   "execution_count": 2,
   "metadata": {},
   "outputs": [],
   "source": [
    "import sys\n",
    "import logging\n",
    "\n",
    "# Load logging level from environment or set default level to ERROR\n",
    "env_logging_level = os.environ.get(\"LOGGING_LEVEL\", \"ERROR\")\n",
    "level = getattr(logging, env_logging_level.upper(), logging.ERROR)\n",
    "\n",
    "logging.basicConfig(stream=sys.stdout, level=level)\n",
    "logging.getLogger().addHandler(logging.StreamHandler(stream=sys.stdout))"
   ]
  },
  {
   "attachments": {},
   "cell_type": "markdown",
   "metadata": {},
   "source": [
    "### Import dependence "
   ]
  },
  {
   "cell_type": "code",
   "execution_count": 3,
   "metadata": {},
   "outputs": [
    {
     "name": "stdout",
     "output_type": "stream",
     "text": [
      "INFO:numexpr.utils:Note: NumExpr detected 10 cores but \"NUMEXPR_MAX_THREADS\" not set, so enforcing safe limit of 8.\n",
      "Note: NumExpr detected 10 cores but \"NUMEXPR_MAX_THREADS\" not set, so enforcing safe limit of 8.\n",
      "INFO:numexpr.utils:NumExpr defaulting to 8 threads.\n",
      "NumExpr defaulting to 8 threads.\n"
     ]
    }
   ],
   "source": [
    "from pathlib import Path\n",
    "from IPython.display import Markdown\n",
    "from llama_index import LLMPredictor, ServiceContext, download_loader, VectorStoreIndex\n",
    "from langchain import OpenAI"
   ]
  },
  {
   "attachments": {},
   "cell_type": "markdown",
   "metadata": {},
   "source": [
    "### Import Llama hub dependence"
   ]
  },
  {
   "cell_type": "code",
   "execution_count": 4,
   "metadata": {},
   "outputs": [],
   "source": [
    "PDFMinerReader = download_loader(\"PDFMinerReader\")\n",
    "loader = PDFMinerReader()"
   ]
  },
  {
   "attachments": {},
   "cell_type": "markdown",
   "metadata": {},
   "source": [
    "### Setup LLM, vector store and context"
   ]
  },
  {
   "cell_type": "code",
   "execution_count": 5,
   "metadata": {},
   "outputs": [],
   "source": [
    "# load index\n",
    "llm_predictor = LLMPredictor(llm=OpenAI(temperature=0, model_name=\"text-davinci-003\"))\n",
    "service_context = ServiceContext.from_defaults(llm_predictor=llm_predictor)"
   ]
  },
  {
   "cell_type": "code",
   "execution_count": 6,
   "metadata": {},
   "outputs": [],
   "source": [
    "file_path = os.environ.get(\"PLANNING_PERMISSION_FILE_PATH\")\n",
    "if (file_path == None):\n",
    "    raise Exception(\"PLANNING_PERMISSION_FILE_PATH not set\")\n",
    "\n",
    "documents = loader.load_data(file=Path(file_path))\n",
    "index = VectorStoreIndex.from_documents(documents, service_context=service_context)\n",
    "\n",
    "query_engine = index.as_query_engine()"
   ]
  },
  {
   "cell_type": "markdown",
   "metadata": {},
   "source": []
  },
  {
   "cell_type": "code",
   "execution_count": 7,
   "metadata": {},
   "outputs": [
    {
     "name": "stdout",
     "output_type": "stream",
     "text": [
      "skipping\n"
     ]
    }
   ],
   "source": [
    "%%script echo skipping\n",
    "\n",
    "response = query_engine.query(\"Behöver jag söka bygglov för en altan?\")\n",
    "display(Markdown(f\"<b>{response}</b>\"))"
   ]
  },
  {
   "attachments": {},
   "cell_type": "markdown",
   "metadata": {},
   "source": [
    "### Questions can be loaded from a JSON file\n",
    "Set optinal environment variable `PLANNING_PERMISSION_QUESTIONS_FILE_PATH=./data/questions.json` to load questions from file.\n",
    "\n",
    "Example of JSON file:\n",
    "```json\n",
    "{\n",
    "    \"questions\": [\n",
    "        {\n",
    "            \"id\": \"q1\",\n",
    "            \"question\": \"Måste man söka bygglov för flaggstång?\"\n",
    "        },\n",
    "        {\n",
    "            \"id\": \"q2\",\n",
    "            \"question\": \"Måste man söka bygglov för altan?\"\n",
    "        }\n",
    "    ]\n",
    "}\n",
    "```"
   ]
  },
  {
   "cell_type": "code",
   "execution_count": 9,
   "metadata": {},
   "outputs": [
    {
     "name": "stdout",
     "output_type": "stream",
     "text": [
      "User: \"Måste man söka bygglov för flaggstång?\"\n",
      "An unexpected error occurred: name 'Markdown' is not defined\n",
      "CPU times: user 47.6 ms, sys: 6.16 ms, total: 53.8 ms\n",
      "Wall time: 2.23 s\n"
     ]
    },
    {
     "name": "stderr",
     "output_type": "stream",
     "text": [
      "Traceback (most recent call last):\n",
      "  File \"<timed exec>\", line 16, in <module>\n",
      "NameError: name 'Markdown' is not defined\n"
     ]
    }
   ],
   "source": [
    "%%time\n",
    "\n",
    "import json\n",
    "\n",
    "file_path = os.environ.get(\"PLANNING_PERMISSION_QUESTIONS_FILE_PATH\")\n",
    "\n",
    "if file_path is not None:\n",
    "    try:\n",
    "        with open(file_path) as f:\n",
    "            data = json.load(f)\n",
    "            questions = data.get(\"questions\", [])\n",
    "            \n",
    "            for question in questions:\n",
    "                query = question.get(\"question\")\n",
    "                print(f\"User: {json.dumps(query, ensure_ascii=False)}\")\n",
    "\n",
    "                response = query_engine.query(query)\n",
    "                display(Markdown(f\"Assistant: <b>{response}</b>\"))\n",
    "    \n",
    "    except FileNotFoundError:\n",
    "        print(f\"The file {file_path} does not exist.\")\n",
    "    except json.JSONDecodeError:\n",
    "        print(f\"The file {file_path} is not in a valid JSON format.\")\n",
    "    except Exception as e:\n",
    "        import traceback\n",
    "        print(f\"An unexpected error occurred: {e}\")\n",
    "        traceback.print_exc()"
   ]
  }
 ],
 "metadata": {
  "kernelspec": {
   "display_name": "venv",
   "language": "python",
   "name": "python3"
  },
  "language_info": {
   "codemirror_mode": {
    "name": "ipython",
    "version": 3
   },
   "file_extension": ".py",
   "mimetype": "text/x-python",
   "name": "python",
   "nbconvert_exporter": "python",
   "pygments_lexer": "ipython3",
   "version": "3.11.4"
  }
 },
 "nbformat": 4,
 "nbformat_minor": 2
}

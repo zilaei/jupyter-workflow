{
 "cells": [
  {
   "attachments": {},
   "cell_type": "markdown",
   "metadata": {},
   "source": [
    "### Setup environment\n",
    "Notebook uses OpenAI API. Use an existing key or [create a new key](https://platform.openai.com/account/api-keys)."
   ]
  },
  {
   "cell_type": "code",
   "execution_count": 1,
   "metadata": {},
   "outputs": [
    {
     "data": {
      "text/plain": [
       "True"
      ]
     },
     "execution_count": 1,
     "metadata": {},
     "output_type": "execute_result"
    }
   ],
   "source": [
    "import os\n",
    "from dotenv import load_dotenv\n",
    "load_dotenv()"
   ]
  },
  {
   "attachments": {},
   "cell_type": "markdown",
   "metadata": {},
   "source": [
    "### Setup logger"
   ]
  },
  {
   "cell_type": "code",
   "execution_count": 2,
   "metadata": {},
   "outputs": [],
   "source": [
    "import sys\n",
    "import logging\n",
    "\n",
    "# Load logging level from environment or set default level to ERROR\n",
    "env_logging_level = os.environ.get(\"LOGGING_LEVEL\", \"ERROR\")\n",
    "level = getattr(logging, env_logging_level.upper(), logging.ERROR)\n",
    "\n",
    "logging.basicConfig(stream=sys.stdout, level=level)\n",
    "logging.getLogger().addHandler(logging.StreamHandler(stream=sys.stdout))"
   ]
  },
  {
   "attachments": {},
   "cell_type": "markdown",
   "metadata": {},
   "source": [
    "### Import dependence "
   ]
  },
  {
   "cell_type": "code",
   "execution_count": 3,
   "metadata": {},
   "outputs": [
    {
     "name": "stdout",
     "output_type": "stream",
     "text": [
      "INFO:numexpr.utils:Note: NumExpr detected 10 cores but \"NUMEXPR_MAX_THREADS\" not set, so enforcing safe limit of 8.\n",
      "Note: NumExpr detected 10 cores but \"NUMEXPR_MAX_THREADS\" not set, so enforcing safe limit of 8.\n",
      "INFO:numexpr.utils:NumExpr defaulting to 8 threads.\n",
      "NumExpr defaulting to 8 threads.\n"
     ]
    }
   ],
   "source": [
    "from pathlib import Path\n",
    "from IPython.display import Markdown\n",
    "from llama_index import LLMPredictor, ServiceContext, download_loader, VectorStoreIndex\n",
    "from langchain import OpenAI"
   ]
  },
  {
   "attachments": {},
   "cell_type": "markdown",
   "metadata": {},
   "source": [
    "### Import Llama hub dependence\n",
    "Import loaders for PDF and Markdown."
   ]
  },
  {
   "cell_type": "code",
   "execution_count": 4,
   "metadata": {},
   "outputs": [],
   "source": [
    "PDFMinerReader = download_loader(\"PDFMinerReader\")\n",
    "pdf_loader = PDFMinerReader()\n",
    "\n",
    "MarkdownReader = download_loader(\"MarkdownReader\")\n",
    "md_loader = MarkdownReader()"
   ]
  },
  {
   "attachments": {},
   "cell_type": "markdown",
   "metadata": {},
   "source": [
    "### Setup LLM, vector store and context"
   ]
  },
  {
   "cell_type": "code",
   "execution_count": 5,
   "metadata": {},
   "outputs": [],
   "source": [
    "# load index\n",
    "llm_predictor = LLMPredictor(llm=OpenAI(temperature=0, model_name=\"text-davinci-003\"))\n",
    "service_context = ServiceContext.from_defaults(llm_predictor=llm_predictor)"
   ]
  },
  {
   "cell_type": "code",
   "execution_count": 9,
   "metadata": {},
   "outputs": [],
   "source": [
    "file_path = os.environ.get(\"PLANNING_PERMISSION_FILE_PATH\")\n",
    "\n",
    "if (file_path == None):\n",
    "    raise Exception(\"PLANNING_PERMISSION_FILE_PATH not set\")\n",
    "\n",
    "if file_path.endswith(\".pdf\"):\n",
    "    document = pdf_loader.load_data(file=Path(file_path))\n",
    "elif file_path.endswith(\".md\"):\n",
    "    document = md_loader.load_data(file=Path(file_path))\n",
    "else:\n",
    "    raise Exception(\"File format not supported\")\n",
    "\n",
    "index = VectorStoreIndex.from_documents(document, service_context=service_context)\n",
    "\n",
    "query_engine = index.as_query_engine()"
   ]
  },
  {
   "cell_type": "markdown",
   "metadata": {},
   "source": [
    "### Query single question\n",
    "Example of how to manually query a question.\n",
    "\n",
    "Remove (or comment) `%%script echo Skipping cell` before running cell!"
   ]
  },
  {
   "cell_type": "code",
   "execution_count": 7,
   "metadata": {},
   "outputs": [
    {
     "data": {
      "text/markdown": [
       "<b>\n",
       "Ja, du behöver söka bygglov för en altan om den är högre än 1,8 meter, placeras mindre än 4,5 meter från gränsen, eller om den kan betraktas som en volymökning eller väsentligt ändrar fasaden.</b>"
      ],
      "text/plain": [
       "<IPython.core.display.Markdown object>"
      ]
     },
     "metadata": {},
     "output_type": "display_data"
    }
   ],
   "source": [
    "# %%script echo Skipping cell\n",
    "\n",
    "response = query_engine.query(\"Behöver jag söka bygglov för en altan?\")\n",
    "display(Markdown(f\"<b>{response}</b>\"))"
   ]
  },
  {
   "attachments": {},
   "cell_type": "markdown",
   "metadata": {},
   "source": [
    "### Questions can be loaded from a JSON file\n",
    "Set optinal environment variable `PLANNING_PERMISSION_QUESTIONS_FILE_PATH=./data/questions.json` to load questions from file.\n",
    "\n",
    "Example file with questions can be find in folder `example_data`.\n",
    "\n",
    "For this cell we measure CPU and wall runtime by setting `%%time`.\n",
    "\n",
    "Example of JSON file:\n",
    "```json\n",
    "{\n",
    "    \"questions\": [\n",
    "        {\n",
    "            \"id\": \"q1\",\n",
    "            \"question\": \"Måste man söka bygglov för flaggstång?\"\n",
    "        },\n",
    "        {\n",
    "            \"id\": \"q2\",\n",
    "            \"question\": \"Måste man söka bygglov för altan?\"\n",
    "        }\n",
    "    ]\n",
    "}\n",
    "```"
   ]
  },
  {
   "cell_type": "code",
   "execution_count": 8,
   "metadata": {},
   "outputs": [
    {
     "name": "stdout",
     "output_type": "stream",
     "text": [
      "User: \"Måste man söka bygglov för flaggstång?\"\n"
     ]
    },
    {
     "data": {
      "text/markdown": [
       "Assistant: <b>\n",
       "Ja, man måste söka bygglov för flaggstång inom detaljplanelagt område.</b>"
      ],
      "text/plain": [
       "<IPython.core.display.Markdown object>"
      ]
     },
     "metadata": {},
     "output_type": "display_data"
    },
    {
     "name": "stdout",
     "output_type": "stream",
     "text": [
      "User: \"Måste man söka bygglov för altan?\"\n"
     ]
    },
    {
     "data": {
      "text/markdown": [
       "Assistant: <b>\n",
       "Ja, man måste söka bygglov för altan om den är högre än 1,8 meter, placeras mindre än 4,5 meter från gränsen, eller om den kan betraktas som en volymökning eller väsentligt ändrar fasaden.</b>"
      ],
      "text/plain": [
       "<IPython.core.display.Markdown object>"
      ]
     },
     "metadata": {},
     "output_type": "display_data"
    },
    {
     "name": "stdout",
     "output_type": "stream",
     "text": [
      "User: \"Måste man söka bygglov för carport?\"\n"
     ]
    },
    {
     "data": {
      "text/markdown": [
       "Assistant: <b>\n",
       "Ja, man måste söka bygglov för att bygga en carport. Det finns inga undantag för carportar från bygglovskravet.</b>"
      ],
      "text/plain": [
       "<IPython.core.display.Markdown object>"
      ]
     },
     "metadata": {},
     "output_type": "display_data"
    },
    {
     "name": "stdout",
     "output_type": "stream",
     "text": [
      "User: \"Måste man söka bygglov för solceller?\"\n"
     ]
    },
    {
     "data": {
      "text/markdown": [
       "Assistant: <b>\n",
       "Ja, man måste söka bygglov för solceller om det står i detaljplanen att solceller kräver bygglov, om det är på en kulturhistoriskt värdefull byggnad eller i ett kulturhistoriskt värdefullt område, om det är inom eller i anslutning till ett område som är av riksintresse för totalförsvaret, eller om man vill göra en bygglovsbefriad åtgärd som strider mot detaljplanen.</b>"
      ],
      "text/plain": [
       "<IPython.core.display.Markdown object>"
      ]
     },
     "metadata": {},
     "output_type": "display_data"
    },
    {
     "name": "stdout",
     "output_type": "stream",
     "text": [
      "User: \"Måste man söka bygglov för pool?\"\n"
     ]
    },
    {
     "data": {
      "text/markdown": [
       "Assistant: <b>\n",
       "Ja, man måste söka bygglov för pool om takets högsta punkt är 1,5 meter eller högre över ursprunglig marknivå intill poolen.</b>"
      ],
      "text/plain": [
       "<IPython.core.display.Markdown object>"
      ]
     },
     "metadata": {},
     "output_type": "display_data"
    },
    {
     "name": "stdout",
     "output_type": "stream",
     "text": [
      "User: \"Måste man söka bygglov för attefallshus?\"\n"
     ]
    },
    {
     "data": {
      "text/markdown": [
       "Assistant: <b>\n",
       "Ja, man måste söka bygglov för att uppföra ett attefallshus.</b>"
      ],
      "text/plain": [
       "<IPython.core.display.Markdown object>"
      ]
     },
     "metadata": {},
     "output_type": "display_data"
    },
    {
     "name": "stdout",
     "output_type": "stream",
     "text": [
      "User: \"Måste man söka bygglov för förråd?\"\n"
     ]
    },
    {
     "data": {
      "text/markdown": [
       "Assistant: <b>\n",
       "Ja, man måste söka bygglov för förråd.</b>"
      ],
      "text/plain": [
       "<IPython.core.display.Markdown object>"
      ]
     },
     "metadata": {},
     "output_type": "display_data"
    },
    {
     "name": "stdout",
     "output_type": "stream",
     "text": [
      "User: \"Måste man söka bygglov för uterum?\"\n"
     ]
    },
    {
     "data": {
      "text/markdown": [
       "Assistant: <b>\n",
       "Ja, om uterummet är sammanbyggt med bostadshuset måste man söka bygglov. Om uterummet är fristående utan hygienutrymmen och pentry är det bygglovsbefriat.</b>"
      ],
      "text/plain": [
       "<IPython.core.display.Markdown object>"
      ]
     },
     "metadata": {},
     "output_type": "display_data"
    },
    {
     "name": "stdout",
     "output_type": "stream",
     "text": [
      "User: \"Måste man söka bygglov för braskamin?\"\n"
     ]
    },
    {
     "data": {
      "text/markdown": [
       "Assistant: <b>\n",
       "Ja, man måste söka bygglov för braskamin. En skorsten som är högre än 1,2 m kräver stag och plattform och införstartbesked. Om skorstenen är fyrkantig krävs både stag och plattform.</b>"
      ],
      "text/plain": [
       "<IPython.core.display.Markdown object>"
      ]
     },
     "metadata": {},
     "output_type": "display_data"
    },
    {
     "name": "stdout",
     "output_type": "stream",
     "text": [
      "User: \"Vad är frankrikes huvudstad?\"\n"
     ]
    },
    {
     "data": {
      "text/markdown": [
       "Assistant: <b>\n",
       "Paris.</b>"
      ],
      "text/plain": [
       "<IPython.core.display.Markdown object>"
      ]
     },
     "metadata": {},
     "output_type": "display_data"
    },
    {
     "name": "stdout",
     "output_type": "stream",
     "text": [
      "CPU times: user 477 ms, sys: 21.3 ms, total: 499 ms\n",
      "Wall time: 37.7 s\n"
     ]
    }
   ],
   "source": [
    "%%time\n",
    "\n",
    "import json\n",
    "\n",
    "file_path = os.environ.get(\"PLANNING_PERMISSION_QUESTIONS_FILE_PATH\")\n",
    "\n",
    "if file_path is not None:\n",
    "    try:\n",
    "        with open(file_path) as f:\n",
    "            data = json.load(f)\n",
    "            questions = data.get(\"questions\", [])\n",
    "            \n",
    "            for question in questions:\n",
    "                query = question.get(\"question\")\n",
    "                print(f\"User: {json.dumps(query, ensure_ascii=False)}\")\n",
    "\n",
    "                response = query_engine.query(query)\n",
    "                display(Markdown(f\"Assistant: <b>{response}</b>\"))\n",
    "    \n",
    "    except FileNotFoundError:\n",
    "        print(f\"The file {file_path} does not exist.\")\n",
    "    except json.JSONDecodeError:\n",
    "        print(f\"The file {file_path} is not in a valid JSON format.\")\n",
    "    except Exception as e:\n",
    "        import traceback\n",
    "        print(f\"An unexpected error occurred: {e}\")\n",
    "        traceback.print_exc()"
   ]
  }
 ],
 "metadata": {
  "kernelspec": {
   "display_name": "venv",
   "language": "python",
   "name": "python3"
  },
  "language_info": {
   "codemirror_mode": {
    "name": "ipython",
    "version": 3
   },
   "file_extension": ".py",
   "mimetype": "text/x-python",
   "name": "python",
   "nbconvert_exporter": "python",
   "pygments_lexer": "ipython3",
   "version": "3.11.4"
  }
 },
 "nbformat": 4,
 "nbformat_minor": 2
}
